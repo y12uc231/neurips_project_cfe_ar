{
 "cells": [
  {
   "cell_type": "code",
   "execution_count": 9,
   "id": "7d5e23a1",
   "metadata": {},
   "outputs": [],
   "source": [
    "import matplotlib.pyplot as plt"
   ]
  },
  {
   "cell_type": "code",
   "execution_count": 4,
   "id": "736d1c64",
   "metadata": {},
   "outputs": [],
   "source": [
    "from torchvision import datasets, transforms\n",
    "from torch.utils.data import DataLoader\n",
    "\n",
    "mnist_train = datasets.MNIST(\"./data\", train=True, download=True, transform=transforms.ToTensor())\n",
    "mnist_test = datasets.MNIST(\"./data\", train=False, download=True, transform=transforms.ToTensor())\n",
    "\n",
    "train_idx = mnist_train.train_labels <= 1\n",
    "mnist_train.data = mnist_train.train_data[train_idx]\n",
    "mnist_train.targets = mnist_train.train_labels[train_idx]\n",
    "\n",
    "test_idx = mnist_test.test_labels <= 1\n",
    "mnist_test.data = mnist_test.test_data[test_idx]\n",
    "mnist_test.targets = mnist_test.test_labels[test_idx]\n",
    "\n",
    "train_loader = DataLoader(mnist_train, batch_size = 100, shuffle=True)\n",
    "test_loader = DataLoader(mnist_test, batch_size = 100, shuffle=False)"
   ]
  },
  {
   "cell_type": "code",
   "execution_count": 5,
   "id": "a00f19bb",
   "metadata": {},
   "outputs": [],
   "source": [
    "import torch\n",
    "import torch.nn as nn\n",
    "import torch.optim as optim\n",
    "\n",
    "# do a single pass over the data\n",
    "def epoch(loader, model, opt=None):\n",
    "    total_loss, total_err = 0.,0.\n",
    "    for X,y in loader:\n",
    "        yp = model(X.view(X.shape[0], -1))[:,0]\n",
    "        loss = nn.BCEWithLogitsLoss()(yp, y.float())\n",
    "        if opt:\n",
    "            opt.zero_grad()\n",
    "            loss.backward()\n",
    "            opt.step()\n",
    "        \n",
    "        total_err += ((yp > 0) * (y==0) + (yp < 0) * (y==1)).sum().item()\n",
    "        total_loss += loss.item() * X.shape[0]\n",
    "    return total_err / len(loader.dataset), total_loss / len(loader.dataset)"
   ]
  },
  {
   "cell_type": "code",
   "execution_count": 6,
   "id": "aa8ec6a3",
   "metadata": {},
   "outputs": [
    {
     "name": "stdout",
     "output_type": "stream",
     "text": [
      "Train Err\tTrain Loss\tTest Err\tTest Loss\n",
      "0.004422\t0.014996\t0.000473\t0.003453\n",
      "0.001184\t0.005321\t0.000473\t0.002685\n",
      "0.001184\t0.004514\t0.000473\t0.002344\n",
      "0.000947\t0.003909\t0.000473\t0.002143\n",
      "0.001026\t0.003554\t0.000473\t0.002105\n",
      "0.001026\t0.003256\t0.000473\t0.001990\n",
      "0.000947\t0.003053\t0.000473\t0.001943\n",
      "0.000869\t0.002825\t0.000473\t0.001931\n",
      "0.000790\t0.002686\t0.000473\t0.001862\n",
      "0.000711\t0.002507\t0.000946\t0.001879\n"
     ]
    }
   ],
   "source": [
    "model = nn.Linear(784, 1)\n",
    "opt = optim.SGD(model.parameters(), lr=1.)\n",
    "print(\"Train Err\", \"Train Loss\", \"Test Err\", \"Test Loss\", sep=\"\\t\")\n",
    "for i in range(10):\n",
    "    train_err, train_loss = epoch(train_loader, model, opt)\n",
    "    test_err, test_loss = epoch(test_loader, model)\n",
    "    print(*(\"{:.6f}\".format(i) for i in (train_err, train_loss, test_err, test_loss)), sep=\"\\t\")"
   ]
  },
  {
   "cell_type": "code",
   "execution_count": 10,
   "id": "8277b7be",
   "metadata": {},
   "outputs": [
    {
     "name": "stderr",
     "output_type": "stream",
     "text": [
      "/Users/skrishna/opt/anaconda3/lib/python3.9/site-packages/torchvision/datasets/mnist.py:67: UserWarning: test_data has been renamed data\n",
      "  warnings.warn(\"test_data has been renamed data\")\n",
      "/Users/skrishna/opt/anaconda3/lib/python3.9/site-packages/torchvision/datasets/mnist.py:57: UserWarning: test_labels has been renamed targets\n",
      "  warnings.warn(\"test_labels has been renamed targets\")\n"
     ]
    },
    {
     "ename": "ValueError",
     "evalue": "only one element tensors can be converted to Python scalars",
     "output_type": "error",
     "traceback": [
      "\u001b[0;31m---------------------------------------------------------------------------\u001b[0m",
      "\u001b[0;31mValueError\u001b[0m                                Traceback (most recent call last)",
      "\u001b[0;32m/var/folders/wx/p5_29wbn6fj32m0h0mc8lcp00000gq/T/ipykernel_80356/2513162453.py\u001b[0m in \u001b[0;36m<module>\u001b[0;34m\u001b[0m\n\u001b[1;32m      4\u001b[0m \u001b[0midx\u001b[0m \u001b[0;34m=\u001b[0m \u001b[0;34m(\u001b[0m\u001b[0myp\u001b[0m \u001b[0;34m>\u001b[0m \u001b[0;36m0\u001b[0m\u001b[0;34m)\u001b[0m \u001b[0;34m*\u001b[0m \u001b[0;34m(\u001b[0m\u001b[0my_test\u001b[0m \u001b[0;34m==\u001b[0m \u001b[0;36m0\u001b[0m\u001b[0;34m)\u001b[0m \u001b[0;34m+\u001b[0m \u001b[0;34m(\u001b[0m\u001b[0myp\u001b[0m \u001b[0;34m<\u001b[0m \u001b[0;36m0\u001b[0m\u001b[0;34m)\u001b[0m \u001b[0;34m*\u001b[0m \u001b[0;34m(\u001b[0m\u001b[0my_test\u001b[0m \u001b[0;34m==\u001b[0m \u001b[0;36m1\u001b[0m\u001b[0;34m)\u001b[0m\u001b[0;34m\u001b[0m\u001b[0;34m\u001b[0m\u001b[0m\n\u001b[1;32m      5\u001b[0m \u001b[0mplt\u001b[0m\u001b[0;34m.\u001b[0m\u001b[0mimshow\u001b[0m\u001b[0;34m(\u001b[0m\u001b[0;36m1\u001b[0m\u001b[0;34m-\u001b[0m\u001b[0mX_test\u001b[0m\u001b[0;34m[\u001b[0m\u001b[0midx\u001b[0m\u001b[0;34m]\u001b[0m\u001b[0;34m[\u001b[0m\u001b[0;36m0\u001b[0m\u001b[0;34m]\u001b[0m\u001b[0;34m.\u001b[0m\u001b[0mview\u001b[0m\u001b[0;34m(\u001b[0m\u001b[0;36m28\u001b[0m\u001b[0;34m,\u001b[0m\u001b[0;36m28\u001b[0m\u001b[0;34m)\u001b[0m\u001b[0;34m.\u001b[0m\u001b[0mnumpy\u001b[0m\u001b[0;34m(\u001b[0m\u001b[0;34m)\u001b[0m\u001b[0;34m,\u001b[0m \u001b[0mcmap\u001b[0m\u001b[0;34m=\u001b[0m\u001b[0;34m\"gray\"\u001b[0m\u001b[0;34m)\u001b[0m\u001b[0;34m\u001b[0m\u001b[0;34m\u001b[0m\u001b[0m\n\u001b[0;32m----> 6\u001b[0;31m \u001b[0mplt\u001b[0m\u001b[0;34m.\u001b[0m\u001b[0mtitle\u001b[0m\u001b[0;34m(\u001b[0m\u001b[0;34m\"True Label: {}\"\u001b[0m\u001b[0;34m.\u001b[0m\u001b[0mformat\u001b[0m\u001b[0;34m(\u001b[0m\u001b[0my_test\u001b[0m\u001b[0;34m[\u001b[0m\u001b[0midx\u001b[0m\u001b[0;34m]\u001b[0m\u001b[0;34m.\u001b[0m\u001b[0mitem\u001b[0m\u001b[0;34m(\u001b[0m\u001b[0;34m)\u001b[0m\u001b[0;34m)\u001b[0m\u001b[0;34m)\u001b[0m\u001b[0;34m\u001b[0m\u001b[0;34m\u001b[0m\u001b[0m\n\u001b[0m",
      "\u001b[0;31mValueError\u001b[0m: only one element tensors can be converted to Python scalars"
     ]
    },
    {
     "data": {
      "image/png": "[encoded data removed]",
      "text/plain": [
       "<Figure size 432x288 with 1 Axes>"
      ]
     },
     "metadata": {
      "needs_background": "light"
     },
     "output_type": "display_data"
    }
   ],
   "source": [
    "X_test = (test_loader.dataset.test_data.float()/255).view(len(test_loader.dataset),-1)\n",
    "y_test = test_loader.dataset.test_labels\n",
    "yp = model(X_test)[:,0]\n",
    "idx = (yp > 0) * (y_test == 0) + (yp < 0) * (y_test == 1)\n",
    "plt.imshow(1-X_test[idx][0].view(28,28).numpy(), cmap=\"gray\")\n",
    "plt.title(\"True Label: {}\".format(y_test[idx].item()))"
   ]
  },
  {
   "cell_type": "code",
   "execution_count": 11,
   "id": "21722dc5",
   "metadata": {},
   "outputs": [
    {
     "data": {
      "text/plain": [
       "<matplotlib.image.AxesImage at 0x7f9f18adc760>"
      ]
     },
     "execution_count": 11,
     "metadata": {},
     "output_type": "execute_result"
    },
    {
     "data": {
      "image/png": "[encoded data removed]",
      "text/plain": [
       "<Figure size 432x288 with 1 Axes>"
      ]
     },
     "metadata": {
      "needs_background": "light"
     },
     "output_type": "display_data"
    }
   ],
   "source": [
    "epsilon = 0.2\n",
    "delta = epsilon * model.weight.detach().sign().view(28,28)\n",
    "plt.imshow(1-delta.numpy(), cmap=\"gray\")"
   ]
  },
  {
   "cell_type": "code",
   "execution_count": 12,
   "id": "6e2b5260",
   "metadata": {},
   "outputs": [
    {
     "data": {
      "text/plain": [
       "torch.Size([28, 28])"
      ]
     },
     "execution_count": 12,
     "metadata": {},
     "output_type": "execute_result"
    }
   ],
   "source": [
    "delta.shape"
   ]
  },
  {
   "cell_type": "code",
   "execution_count": 18,
   "id": "875fb2a3",
   "metadata": {},
   "outputs": [
    {
     "name": "stdout",
     "output_type": "stream",
     "text": [
      "torch.Size([100, 1, 28, 28]) torch.Size([100]) torch.Size([100, 1, 1, 1])\n",
      "torch.Size([100, 1, 28, 28]) torch.Size([100]) torch.Size([100, 1, 1, 1])\n",
      "torch.Size([100, 1, 28, 28]) torch.Size([100]) torch.Size([100, 1, 1, 1])\n",
      "torch.Size([100, 1, 28, 28]) torch.Size([100]) torch.Size([100, 1, 1, 1])\n",
      "torch.Size([100, 1, 28, 28]) torch.Size([100]) torch.Size([100, 1, 1, 1])\n",
      "torch.Size([100, 1, 28, 28]) torch.Size([100]) torch.Size([100, 1, 1, 1])\n",
      "torch.Size([100, 1, 28, 28]) torch.Size([100]) torch.Size([100, 1, 1, 1])\n",
      "torch.Size([100, 1, 28, 28]) torch.Size([100]) torch.Size([100, 1, 1, 1])\n",
      "torch.Size([100, 1, 28, 28]) torch.Size([100]) torch.Size([100, 1, 1, 1])\n",
      "torch.Size([100, 1, 28, 28]) torch.Size([100]) torch.Size([100, 1, 1, 1])\n",
      "torch.Size([100, 1, 28, 28]) torch.Size([100]) torch.Size([100, 1, 1, 1])\n",
      "torch.Size([100, 1, 28, 28]) torch.Size([100]) torch.Size([100, 1, 1, 1])\n",
      "torch.Size([100, 1, 28, 28]) torch.Size([100]) torch.Size([100, 1, 1, 1])\n",
      "torch.Size([100, 1, 28, 28]) torch.Size([100]) torch.Size([100, 1, 1, 1])\n",
      "torch.Size([100, 1, 28, 28]) torch.Size([100]) torch.Size([100, 1, 1, 1])\n",
      "torch.Size([100, 1, 28, 28]) torch.Size([100]) torch.Size([100, 1, 1, 1])\n",
      "torch.Size([100, 1, 28, 28]) torch.Size([100]) torch.Size([100, 1, 1, 1])\n",
      "torch.Size([100, 1, 28, 28]) torch.Size([100]) torch.Size([100, 1, 1, 1])\n",
      "torch.Size([100, 1, 28, 28]) torch.Size([100]) torch.Size([100, 1, 1, 1])\n",
      "torch.Size([100, 1, 28, 28]) torch.Size([100]) torch.Size([100, 1, 1, 1])\n",
      "torch.Size([100, 1, 28, 28]) torch.Size([100]) torch.Size([100, 1, 1, 1])\n",
      "torch.Size([15, 1, 28, 28]) torch.Size([15]) torch.Size([15, 1, 1, 1])\n",
      "(0.02364066193853428, 0.09492058225909587)\n"
     ]
    }
   ],
   "source": [
    "def epoch_adv(loader, model, delta):\n",
    "    total_loss, total_err = 0.,0.\n",
    "    for X,y in loader:\n",
    "        tmp = (2*y.float()[:,None,None,None]-1)\n",
    "        print(X.shape, y.shape, tmp.shape)\n",
    "        yp = model((X-(2*y.float()[:,None,None,None]-1)*delta).view(X.shape[0], -1))[:,0]\n",
    "        loss = nn.BCEWithLogitsLoss()(yp, y.float())\n",
    "        total_err += ((yp > 0) * (y==0) + (yp < 0) * (y==1)).sum().item()\n",
    "        total_loss += loss.item() * X.shape[0]\n",
    "    return total_err / len(loader.dataset), total_loss / len(loader.dataset)\n",
    "print(epoch_adv(test_loader, model, delta[None,None,:,:]))"
   ]
  },
  {
   "cell_type": "code",
   "execution_count": 14,
   "id": "1c6425b1",
   "metadata": {},
   "outputs": [],
   "source": [
    "# do a single pass over the data\n",
    "def epoch_robust(loader, model, epsilon, opt=None):\n",
    "    total_loss, total_err = 0.,0.\n",
    "    for X,y in loader:\n",
    "        yp = model(X.view(X.shape[0], -1))[:,0] - epsilon*(2*y.float()-1)*model.weight.norm(1)\n",
    "        loss = nn.BCEWithLogitsLoss()(yp, y.float())\n",
    "        if opt:\n",
    "            opt.zero_grad()\n",
    "            loss.backward()\n",
    "            opt.step()\n",
    "        \n",
    "        total_err += ((yp > 0) * (y==0) + (yp < 0) * (y==1)).sum().item()\n",
    "        total_loss += loss.item() * X.shape[0]\n",
    "    return total_err / len(loader.dataset), total_loss / len(loader.dataset)"
   ]
  },
  {
   "cell_type": "code",
   "execution_count": 15,
   "id": "60721ab5",
   "metadata": {},
   "outputs": [
    {
     "name": "stdout",
     "output_type": "stream",
     "text": [
      "Rob. Train Err\tRob. Train Loss\tRob. Test Err\tRob. Test Loss\n",
      "0.152783\t0.381261\t0.064303\t0.209316\n",
      "0.073431\t0.223573\t0.057683\t0.182352\n",
      "0.063877\t0.197828\t0.043026\t0.154724\n",
      "0.057560\t0.183956\t0.044444\t0.161882\n",
      "0.053849\t0.175002\t0.038298\t0.136786\n",
      "0.049270\t0.167923\t0.036879\t0.132805\n",
      "0.047690\t0.162962\t0.033570\t0.123982\n",
      "0.046269\t0.158581\t0.031678\t0.121913\n",
      "0.044374\t0.154732\t0.029787\t0.115812\n",
      "0.042953\t0.151800\t0.026005\t0.111248\n",
      "0.041769\t0.149208\t0.027423\t0.112844\n",
      "0.040426\t0.147004\t0.028369\t0.116637\n",
      "0.039558\t0.145121\t0.027423\t0.112877\n",
      "0.038768\t0.143373\t0.027896\t0.111257\n",
      "0.037900\t0.141694\t0.026950\t0.107551\n",
      "0.036952\t0.140437\t0.027423\t0.111476\n",
      "0.036242\t0.139278\t0.025532\t0.104039\n",
      "0.035689\t0.138043\t0.025059\t0.101814\n",
      "0.035057\t0.137226\t0.024586\t0.102390\n",
      "0.034268\t0.136248\t0.023641\t0.098232\n"
     ]
    }
   ],
   "source": [
    "model = nn.Linear(784, 1)\n",
    "opt = optim.SGD(model.parameters(), lr=1e-1)\n",
    "epsilon = 0.2\n",
    "print(\"Rob. Train Err\", \"Rob. Train Loss\", \"Rob. Test Err\", \"Rob. Test Loss\", sep=\"\\t\")\n",
    "for i in range(20):\n",
    "    train_err, train_loss = epoch_robust(train_loader, model, epsilon, opt)\n",
    "    test_err, test_loss = epoch_robust(test_loader, model, epsilon)\n",
    "    print(*(\"{:.6f}\".format(i) for i in (train_err, train_loss, test_err, test_loss)), sep=\"\\t\")"
   ]
  },
  {
   "cell_type": "code",
   "execution_count": null,
   "id": "7a65b585",
   "metadata": {},
   "outputs": [],
   "source": []
  }
 ],
 "metadata": {
  "kernelspec": {
   "display_name": "Python 3 (ipykernel)",
   "language": "python",
   "name": "python3"
  },
  "language_info": {
   "codemirror_mode": {
    "name": "ipython",
    "version": 3
   },
   "file_extension": ".py",
   "mimetype": "text/x-python",
   "name": "python",
   "nbconvert_exporter": "python",
   "pygments_lexer": "ipython3",
   "version": "3.9.7"
  }
 },
 "nbformat": 4,
 "nbformat_minor": 5
}
